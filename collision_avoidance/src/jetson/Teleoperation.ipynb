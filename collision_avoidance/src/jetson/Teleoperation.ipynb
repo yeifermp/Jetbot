{
 "cells": [
  {
   "cell_type": "code",
   "execution_count": 1,
   "metadata": {},
   "outputs": [],
   "source": [
    "import jetson_inference\n",
    "from jetson_utils import cudaToNumpy, videoSource, cudaDeviceSynchronize\n",
    "import ipywidgets.widgets as widgets\n",
    "import IPython.display\n",
    "from PIL import Image\n",
    "import matplotlib.pyplot as plt\n",
    "import time\n",
    "from io import BytesIO\n",
    "import cv2\n",
    "import uuid\n",
    "import board\n",
    "import busio\n"
   ]
  },
  {
   "cell_type": "code",
   "execution_count": 2,
   "metadata": {},
   "outputs": [],
   "source": [
    "class Wheels:\n",
    "    stop_cmd: bytes = bytes([0x0])\n",
    "    forward_cmd: bytes = bytes([0x1])\n",
    "    reverse_cmd: bytes = bytes([0x2])\n",
    "    left_cmd: bytes = bytes([0x3])\n",
    "    right_cmd: bytes = bytes([0x4])\n",
    "    i2c: busio.I2C\n",
    "    address = 0x15\n",
    "\n",
    "    def __init__(self): \n",
    "        self.i2c = busio.I2C(board.SCL_1, board.SDA_1)\n",
    "\n",
    "    def stop(self):\n",
    "        self.i2c.writeto(self.address, self.stop_cmd)\n",
    "\n",
    "    def go_forward(self):\n",
    "        self.i2c.writeto(self.address, self.forward_cmd)\n",
    "\n",
    "    def reverse(self):\n",
    "        self.i2c.writeto(self.address, self.reverse_cmd)\n",
    "\n",
    "    def go_left(self):\n",
    "        self.i2c.writeto(self.address, self.left_cmd)\n",
    "\n",
    "    def go_right(self):\n",
    "        self.i2c.writeto(self.address, self.right_cmd)"
   ]
  },
  {
   "cell_type": "code",
   "execution_count": 3,
   "metadata": {},
   "outputs": [
    {
     "name": "stdout",
     "output_type": "stream",
     "text": [
      "[gstreamer] initialized gstreamer, version 1.20.3.0\n",
      "[gstreamer] gstCamera -- attempting to create device csi://0\n",
      "[gstreamer] gstCamera pipeline string:\n",
      "[gstreamer] nvarguscamerasrc sensor-id=0 ! video/x-raw(memory:NVMM), width=(int)1280, height=(int)720, framerate=30/1, format=(string)NV12 ! nvvidconv flip-method=2 ! video/x-raw ! appsink name=mysink\n",
      "[gstreamer] gstCamera successfully created device csi://0\n",
      "\u001b[0;32m[video]  created gstCamera from csi://0\n",
      "\u001b[0m------------------------------------------------\n",
      "gstCamera video options:\n",
      "------------------------------------------------\n",
      "  -- URI: csi://0\n",
      "     - protocol:  csi\n",
      "     - location:  0\n",
      "  -- deviceType: csi\n",
      "  -- ioType:     input\n",
      "  -- width:      1280\n",
      "  -- height:     720\n",
      "  -- frameRate:  30\n",
      "  -- numBuffers: 4\n",
      "  -- zeroCopy:   true\n",
      "  -- flipMethod: rotate-180\n",
      "------------------------------------------------\n"
     ]
    }
   ],
   "source": [
    "source = \"csi://0\"\n",
    "wheels = Wheels()\n",
    "input = videoSource(source)\n"
   ]
  },
  {
   "cell_type": "code",
   "execution_count": 4,
   "metadata": {},
   "outputs": [],
   "source": [
    "def wait_action():\n",
    "    wheels.stop()\n",
    "\n",
    "def go_forward(change):\n",
    "    wheels.go_forward()\n",
    "\n",
    "def go_backward(change):\n",
    "    wheels.reverse()\n",
    "\n",
    "def go_left(change):\n",
    "    wheels.go_left()\n",
    "\n",
    "def go_right(change):\n",
    "    wheels.go_right()\n",
    "\n",
    "def stop(change):\n",
    "    wheels.stop()"
   ]
  },
  {
   "cell_type": "code",
   "execution_count": 5,
   "metadata": {},
   "outputs": [
    {
     "data": {
      "application/vnd.jupyter.widget-view+json": {
       "model_id": "975e9db0e31f40c5beaa4dd71c2e666c",
       "version_major": 2,
       "version_minor": 0
      },
      "text/plain": [
       "Image(value=b'', height='720', width='1280')"
      ]
     },
     "metadata": {},
     "output_type": "display_data"
    }
   ],
   "source": [
    "output_image = widgets.Image(format='png', width=1280, height=720)\n",
    "display(output_image)"
   ]
  },
  {
   "cell_type": "code",
   "execution_count": 6,
   "metadata": {},
   "outputs": [
    {
     "name": "stdout",
     "output_type": "stream",
     "text": [
      "[gstreamer] opening gstCamera for streaming, transitioning pipeline to GST_STATE_PLAYING\n",
      "[gstreamer] gstreamer changed state from NULL to READY ==> mysink\n",
      "[gstreamer] gstreamer changed state from NULL to READY ==> capsfilter1\n",
      "[gstreamer] gstreamer changed state from NULL to READY ==> nvvconv0\n",
      "[gstreamer] gstreamer changed state from NULL to READY ==> capsfilter0\n",
      "[gstreamer] gstreamer changed state from NULL to READY ==> nvarguscamerasrc0\n",
      "[gstreamer] gstreamer changed state from NULL to READY ==> pipeline0\n",
      "[gstreamer] gstreamer changed state from READY to PAUSED ==> capsfilter1\n",
      "[gstreamer] gstreamer changed state from READY to PAUSED ==> nvvconv0\n",
      "[gstreamer] gstreamer changed state from READY to PAUSED ==> capsfilter0\n",
      "[gstreamer] gstreamer stream status CREATE ==> src\n",
      "[gstreamer] gstreamer changed state from READY to PAUSED ==> nvarguscamerasrc0\n",
      "[gstreamer] gstreamer changed state from READY to PAUSED ==> pipeline0\n",
      "[gstreamer] gstreamer message new-clock ==> pipeline0\n",
      "[gstreamer] gstreamer changed state from PAUSED to PLAYING ==> capsfilter1\n",
      "[gstreamer] gstreamer changed state from PAUSED to PLAYING ==> nvvconv0\n",
      "[gstreamer] gstreamer changed state from PAUSED to PLAYING ==> capsfilter0\n",
      "[gstreamer] gstreamer changed state from PAUSED to PLAYING ==> nvarguscamerasrc0\n",
      "[gstreamer] gstreamer stream status ENTER ==> src\n",
      "GST_ARGUS: Creating output stream\n",
      "CONSUMER: Waiting until producer is connected...\n",
      "GST_ARGUS: Available Sensor modes :\n",
      "[gstreamer] gstreamer message stream-start ==> pipeline0\n",
      "GST_ARGUS: 3280 x 2464 FR = 21.000000 fps Duration = 47619048 ; Analog Gain range min 1.000000, max 10.625000; Exposure Range min 13000, max 683709000;\n",
      "\n",
      "GST_ARGUS: 3280 x 1848 FR = 28.000001 fps Duration = 35714284 ; Analog Gain range min 1.000000, max 10.625000; Exposure Range min 13000, max 683709000;\n",
      "\n",
      "GST_ARGUS: 1920 x 1080 FR = 29.999999 fps Duration = 33333334 ; Analog Gain range min 1.000000, max 10.625000; Exposure Range min 13000, max 683709000;\n",
      "\n",
      "GST_ARGUS: 1640 x 1232 FR = 29.999999 fps Duration = 33333334 ; Analog Gain range min 1.000000, max 10.625000; Exposure Range min 13000, max 683709000;\n",
      "\n",
      "GST_ARGUS: 1280 x 720 FR = 59.999999 fps Duration = 16666667 ; Analog Gain range min 1.000000, max 10.625000; Exposure Range min 13000, max 683709000;\n",
      "\n",
      "GST_ARGUS: Running with following settings:\n",
      "   Camera index = 0 \n",
      "   Camera mode  = 4 \n",
      "   Output Stream W = 1280 H = 720 \n",
      "   seconds to Run    = 0 \n",
      "   Frame Rate = 59.999999 \n",
      "GST_ARGUS: Setup Complete, Starting captures for 0 seconds\n",
      "GST_ARGUS: Starting repeat capture requests.\n",
      "CONSUMER: Producer has connected; continuing.\n",
      "[gstreamer] gstCamera -- onPreroll\n",
      "\u001b[0;33m[gstreamer] gstBufferManager -- map buffer size was less than max size (1382400 vs 1382407)\n",
      "\u001b[0m[gstreamer] gstBufferManager recieve caps:  video/x-raw, width=(int)1280, height=(int)720, framerate=(fraction)30/1, format=(string)NV12\n",
      "[gstreamer] gstBufferManager -- recieved first frame, codec=raw format=nv12 width=1280 height=720 size=1382407\n",
      "[cuda]   allocated 4 ring buffers (1382407 bytes each, 5529628 bytes total)\n",
      "[cuda]   allocated 4 ring buffers (8 bytes each, 32 bytes total)\n",
      "[gstreamer] gstreamer changed state from READY to PAUSED ==> mysink\n",
      "[gstreamer] gstreamer message async-done ==> pipeline0\n",
      "[gstreamer] gstreamer message latency ==> mysink\n",
      "[gstreamer] gstreamer message warning ==> mysink\n",
      "[gstreamer] gstreamer changed state from PAUSED to PLAYING ==> mysink\n",
      "[gstreamer] gstreamer changed state from PAUSED to PLAYING ==> pipeline0\n",
      "[cuda]   allocated 4 ring buffers (2764800 bytes each, 11059200 bytes total)\n"
     ]
    }
   ],
   "source": [
    "import threading, time\n",
    "\n",
    "class DisplayCaptureBackground(threading.Thread):\n",
    "    display_capture = True\n",
    "    \n",
    "    def stop(self):\n",
    "        self.display_capture = False\n",
    "    \n",
    "    def run(self):\n",
    "        while self.display_capture:\n",
    "            image = input.Capture()  \n",
    "            if (image is not None):\n",
    "                array = cudaToNumpy(image)\n",
    "                f = BytesIO()\n",
    "                final_image = Image.fromarray(array)\n",
    "                final_image.save(f, format=\"jpeg\")\n",
    "                output_image.value = f.getvalue()\n",
    "                del image\n",
    "    \n",
    "display_background = DisplayCaptureBackground()\n",
    "display_background.start()"
   ]
  },
  {
   "cell_type": "code",
   "execution_count": 13,
   "metadata": {},
   "outputs": [
    {
     "data": {
      "application/vnd.jupyter.widget-view+json": {
       "model_id": "b5d172ad0ca04602a94d4ddbb875b1d3",
       "version_major": 2,
       "version_minor": 0
      },
      "text/plain": [
       "VBox(children=(Button(description='forward', icon='arrow-up', layout=Layout(align_self='center', height='80px'…"
      ]
     },
     "metadata": {},
     "output_type": "display_data"
    },
    {
     "data": {
      "application/vnd.jupyter.widget-view+json": {
       "model_id": "d2171f20f58747e5b5a413c33baffb7a",
       "version_major": 2,
       "version_minor": 0
      },
      "text/plain": [
       "Output()"
      ]
     },
     "metadata": {},
     "output_type": "display_data"
    }
   ],
   "source": [
    "button_layout = widgets.Layout(width='100px', height='80px', align_self='center')\n",
    "stop_button = widgets.Button(description='stop', layout=button_layout, icon='stop')\n",
    "forward_button = widgets.Button(description='forward', layout=button_layout, icon='arrow-up')\n",
    "backward_button = widgets.Button(description='backward', layout=button_layout, icon='arrow-down')\n",
    "left_button = widgets.Button(description='left', layout=button_layout, icon='arrow-left')\n",
    "right_button = widgets.Button(description='right', layout=button_layout, icon='arrow-right')\n",
    "\n",
    "output = widgets.Output()\n",
    "\n",
    "stop_button.on_click(stop)\n",
    "left_button.on_click(go_left)\n",
    "right_button.on_click(go_right)\n",
    "backward_button.on_click(go_backward)\n",
    "forward_button.on_click(go_forward)\n",
    "\n",
    "center_box_layout = layout=widgets.Layout(align_self='center')\n",
    "middle_box = widgets.HBox([left_button, stop_button, right_button], layout=center_box_layout)\n",
    "controls_box = widgets.VBox([forward_button, middle_box, backward_button])\n",
    "display(controls_box, output)"
   ]
  }
 ],
 "metadata": {
  "kernelspec": {
   "display_name": "Python 3 (ipykernel)",
   "language": "python",
   "name": "python3"
  },
  "language_info": {
   "codemirror_mode": {
    "name": "ipython",
    "version": 3
   },
   "file_extension": ".py",
   "mimetype": "text/x-python",
   "name": "python",
   "nbconvert_exporter": "python",
   "pygments_lexer": "ipython3",
   "version": "3.10.12"
  }
 },
 "nbformat": 4,
 "nbformat_minor": 4
}
